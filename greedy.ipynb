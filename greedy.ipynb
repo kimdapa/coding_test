{
 "cells": [
  {
   "cell_type": "markdown",
   "id": "40923f1a",
   "metadata": {},
   "source": [
    "# 거스름돈\n",
    "- 당신은 음식점의 계산을 도와주는 점원이다.\n",
    "- 카운터에는 거스름돈으로 사용할 500원, 100원, 50원, 10원짜리 동전이 \n",
    "  <br>무한히 존재한다고 가정한다.\n",
    "- 손님에게 거슬러 줘야 할 돈이 N원일 때, 거슬러 줘야 할 동전의 최소 개수를 \n",
    "  <br>구하라.\n",
    "- 단, 거슬러 줘야 할 돈 N은 항상 10의 배수이다."
   ]
  },
  {
   "cell_type": "code",
   "execution_count": 40,
   "id": "a4f6c100",
   "metadata": {},
   "outputs": [
    {
     "name": "stdout",
     "output_type": "stream",
     "text": [
      "620\n",
      "4\n"
     ]
    }
   ],
   "source": [
    "# 예시 1\n",
    "# N = 1260원 일 때\n",
    "N = int(input())\n",
    "count = 0\n",
    "\n",
    "coin_types = [500, 100, 50, 10]\n",
    "for coin in coin_types :\n",
    "    count += N // coin # 해당 화폐로 거슬러 줄 수 있는 동전의 개수 세기\n",
    "    N %= coin\n",
    "    \n",
    "print(count)"
   ]
  },
  {
   "cell_type": "markdown",
   "id": "445edeaa",
   "metadata": {},
   "source": [
    "# 큰 수의 법칙\n",
    "  - M번을 더할 수 있지만 K번의 횟수를 넘어가면 안됌."
   ]
  },
  {
   "cell_type": "code",
   "execution_count": 10,
   "id": "375002b1",
   "metadata": {},
   "outputs": [
    {
     "name": "stdout",
     "output_type": "stream",
     "text": [
      "5 8 3\n",
      "2 4 5 4 6\n",
      "46\n"
     ]
    }
   ],
   "source": [
    "n, m, k = map(int, input().split())\n",
    "data = list(map(int,input().split()))\n",
    "\n",
    "data.sort() # 입력 받은 수 정렬\n",
    "first = data[n-1]\n",
    "second = data[n-2]\n",
    "\n",
    "result = 0 \n",
    "\n",
    "while True :\n",
    "    for i in range(k) : # 가장 큰 수를 K번 더하기\n",
    "        if m == 0 : # m이 0이라면 반복문 탈출\n",
    "            break\n",
    "        result += first\n",
    "        m -= 1 # 더할 때마다 1씩 빼기\n",
    "    if m == 0 :\n",
    "        break\n",
    "    result += second # 두 번째로 큰 수를 한 번 더하기\n",
    "    m -= 1\n",
    "    \n",
    "print(result)"
   ]
  },
  {
   "cell_type": "markdown",
   "id": "17dfca2a",
   "metadata": {},
   "source": [
    "# 숫자 카드 게임\n",
    "- 숫자가 쓰인 카드들이 N x M 형태로 놓여 있다. \n",
    "- N : 행의 개수 , M : 열의 개수\n",
    "- 먼저 뽑고자 하는 카드가 포함되어 있는 행을 선택한다.\n",
    "- 그 다음 선택된 행에 포함된 카드들 중 가장 숫자가 낮은 카드를 뽑아야 한다.\n",
    "- 따라서 처음에 카드를 골라낼 행을 선택할 때, 이후에 해당 행에서 가장 숫자가 낮은 카드를<br> 뽑을 것을 고려하여 최종적으로 가장 높은 카드를 뽑을 수 있도록 전략을 세워야 한다."
   ]
  },
  {
   "cell_type": "code",
   "execution_count": 15,
   "id": "e5990768",
   "metadata": {},
   "outputs": [
    {
     "name": "stdout",
     "output_type": "stream",
     "text": [
      "2 4\n",
      "7 3 1 8\n",
      "3 3 3 4\n",
      "3\n"
     ]
    }
   ],
   "source": [
    "n,m = map(int, input().split())\n",
    "number = []\n",
    "\n",
    "for i in range(n) :\n",
    "    card = list(map(int,input().split()))\n",
    "    min_n = min(card)\n",
    "    number.append(min_n)\n",
    "    \n",
    "print(max(number))"
   ]
  },
  {
   "cell_type": "code",
   "execution_count": null,
   "id": "5c7fe35c",
   "metadata": {},
   "outputs": [],
   "source": [
    "# 답안 예시\n",
    "n, m = map(int, input().split())\n",
    "\n",
    "result = 0\n",
    "\n",
    "for i in range(n) :\n",
    "    data = list(map(int, input().split()))\n",
    "    # 현재 줄에서 가장 작은 수 찾기\n",
    "    min_value = min(data)\n",
    "    # 가장 작은 수들 중에서 가장 큰 수 찾기\n",
    "    result = max(result, min_value)\n",
    "\n",
    "print(result)"
   ]
  },
  {
   "cell_type": "markdown",
   "id": "1378c5b4",
   "metadata": {},
   "source": [
    "# 1이 될 때까지\n",
    "- 어떤 수 N이 1이 될 때까지 다음의 두 과정 중 하나를 반복적으로 선택하여 수행하려고 한다.\n",
    "- 단, 두 번째 연산은 N이 K로 나누어떨어질 때만 선택할 수 있다."
   ]
  },
  {
   "cell_type": "code",
   "execution_count": 33,
   "id": "218882a1",
   "metadata": {},
   "outputs": [
    {
     "name": "stdout",
     "output_type": "stream",
     "text": [
      "4 5\n",
      "3\n"
     ]
    }
   ],
   "source": [
    "n, k = map(int,input().split())\n",
    "count = 0\n",
    "\n",
    "while True :\n",
    "    if n != 1:\n",
    "        if n % k == 0 :\n",
    "            n = n // k \n",
    "            count += 1 \n",
    "        elif n % k != 0 :\n",
    "            n = n - 1\n",
    "            count += 1\n",
    "    elif n == 1 :\n",
    "        break\n",
    "        \n",
    "print(count)"
   ]
  },
  {
   "cell_type": "code",
   "execution_count": 34,
   "id": "2aaee6d6",
   "metadata": {},
   "outputs": [
    {
     "name": "stdout",
     "output_type": "stream",
     "text": [
      "4 5\n",
      "3\n"
     ]
    }
   ],
   "source": [
    "# 답안 예시\n",
    "# n을 k로 나눈 후 빼기를 진행\n",
    "# 연산이 더 빠르게 됌\n",
    "\n",
    "n, k = map(int, input().split())\n",
    "result = 0\n",
    "\n",
    "# n이 k 이상이라면 k로 게속 나누기\n",
    "while n >= k :\n",
    "    # n이 k로 나누어 떨어지지 않는다면 n에서 1씩 빼기\n",
    "    while n % k != 0 :\n",
    "        n -= 1\n",
    "        result += 1\n",
    "    # k로 나누기\n",
    "    n //= k \n",
    "    result += 1\n",
    "    \n",
    "# 마지막으로 남은 수에 대하여 1씩 빼기\n",
    "while n > 1 :\n",
    "    n -= 1 \n",
    "    result += 1\n",
    "    \n",
    "print(result)"
   ]
  },
  {
   "cell_type": "code",
   "execution_count": null,
   "id": "ed2657de",
   "metadata": {},
   "outputs": [],
   "source": []
  }
 ],
 "metadata": {
  "kernelspec": {
   "display_name": "Python 3 (ipykernel)",
   "language": "python",
   "name": "python3"
  },
  "language_info": {
   "codemirror_mode": {
    "name": "ipython",
    "version": 3
   },
   "file_extension": ".py",
   "mimetype": "text/x-python",
   "name": "python",
   "nbconvert_exporter": "python",
   "pygments_lexer": "ipython3",
   "version": "3.8.13"
  }
 },
 "nbformat": 4,
 "nbformat_minor": 5
}
