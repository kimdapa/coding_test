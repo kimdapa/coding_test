{
 "cells": [
  {
   "cell_type": "markdown",
   "id": "5f726200",
   "metadata": {},
   "source": [
    "# 상하좌우\n",
    "- 여행가 A는 N x N 크기의 정사각형 공간 위에 서 있다.\n",
    "- 이 공간 1 x 1 크기의 정사각형으로 나누어져 있다.\n",
    "- 여행가 A는 상, 하, 좌, 우로 이동 가능\n",
    "- L : 왼쪽 한칸, R : 오른쪽 한칸, U : 위 한칸, D : 아래 한칸\n",
    "- 공간을 벗어나는 움직임은 무시\n",
    "- 최종적으로 도착할 지점의 좌표를 출력"
   ]
  },
  {
   "cell_type": "code",
   "execution_count": 15,
   "id": "b30ce46c",
   "metadata": {},
   "outputs": [
    {
     "name": "stdout",
     "output_type": "stream",
     "text": [
      "5\n",
      "R R R U D D\n",
      "3 4\n"
     ]
    }
   ],
   "source": [
    "n = int(input())\n",
    "move = list(map(str, input().split()))\n",
    "\n",
    "x = 1 \n",
    "y = 1\n",
    "\n",
    "for moving in move :  \n",
    "    if moving == 'L' :\n",
    "        y -= 1\n",
    "    elif moving == 'R' :\n",
    "        y += 1 \n",
    "    elif moving == 'U' :\n",
    "        x -= 1\n",
    "    elif moving == 'D' :\n",
    "        x += 1\n",
    "        \n",
    "    if x > n :\n",
    "        x -= 1\n",
    "    elif y > n :\n",
    "        y -= 1\n",
    "    elif x < 1 :\n",
    "        x += 1\n",
    "    elif y < 1 :\n",
    "        y += 1\n",
    "        \n",
    "print(x, y)"
   ]
  },
  {
   "cell_type": "code",
   "execution_count": 16,
   "id": "cc48a1a9",
   "metadata": {},
   "outputs": [
    {
     "name": "stdout",
     "output_type": "stream",
     "text": [
      "5\n",
      "R R R U D D\n"
     ]
    },
    {
     "ename": "NameError",
     "evalue": "name 'paln' is not defined",
     "output_type": "error",
     "traceback": [
      "\u001b[0;31m---------------------------------------------------------------------------\u001b[0m",
      "\u001b[0;31mNameError\u001b[0m                                 Traceback (most recent call last)",
      "Input \u001b[0;32mIn [16]\u001b[0m, in \u001b[0;36m<cell line: 12>\u001b[0;34m()\u001b[0m\n\u001b[1;32m     12\u001b[0m \u001b[38;5;28;01mfor\u001b[39;00m plan \u001b[38;5;129;01min\u001b[39;00m plans :\n\u001b[1;32m     13\u001b[0m     \u001b[38;5;66;03m# 이동 후 좌표 구하기\u001b[39;00m\n\u001b[1;32m     14\u001b[0m     \u001b[38;5;28;01mfor\u001b[39;00m i \u001b[38;5;129;01min\u001b[39;00m \u001b[38;5;28mrange\u001b[39m(\u001b[38;5;28mlen\u001b[39m(move_types)) :\n\u001b[0;32m---> 15\u001b[0m         \u001b[38;5;28;01mif\u001b[39;00m \u001b[43mpaln\u001b[49m \u001b[38;5;241m==\u001b[39m move_types[i] :\n\u001b[1;32m     16\u001b[0m             nx \u001b[38;5;241m=\u001b[39m x \u001b[38;5;241m+\u001b[39m dx[i]\n\u001b[1;32m     17\u001b[0m             ny \u001b[38;5;241m=\u001b[39m y \u001b[38;5;241m+\u001b[39m dy[i]\n",
      "\u001b[0;31mNameError\u001b[0m: name 'paln' is not defined"
     ]
    }
   ],
   "source": [
    "# 답안 예시\n",
    "n = int(input())\n",
    "x,y = 1, 1\n",
    "plans = input().split()\n",
    "\n",
    "# L, R, U, D에 따른 이동 방향\n",
    "dx = [0, 0, -1, 1]\n",
    "dy = [-1, 1, 0, 0]\n",
    "move_types = ['L', 'R', 'U', 'D']\n",
    "\n",
    "# 이동 계획을 하나씩 확인\n",
    "for plan in plans :\n",
    "    # 이동 후 좌표 구하기\n",
    "    for i in range(len(move_types)) :\n",
    "        if plan == move_types[i] :\n",
    "            nx = x + dx[i]\n",
    "            ny = y + dy[i]\n",
    "    \n",
    "    if nx < 1 or ny < 1 or nx > n or ny > n :\n",
    "        continue\n",
    "    \n",
    "    # 이동 수행\n",
    "    x, y = nx, ny\n",
    "    \n",
    "print(x, y)"
   ]
  },
  {
   "cell_type": "markdown",
   "id": "0b90c9a7",
   "metadata": {},
   "source": [
    "# 시각\n",
    "- 정수 N이 입력되면 00시 00분 00초부터 N시 59분 59초까지의 모든 시각 중에서 3이 하나라도 <br>포함되는 모든 경우의 수를 구하는 프로그램을 작성하라."
   ]
  },
  {
   "cell_type": "code",
   "execution_count": 30,
   "id": "cf7cad91",
   "metadata": {},
   "outputs": [
    {
     "name": "stdout",
     "output_type": "stream",
     "text": [
      "5 0\n",
      "0\n",
      "1\n",
      "2\n",
      "3\n",
      "4\n",
      "5\n",
      "7020\n"
     ]
    }
   ],
   "source": [
    "n, k = map(int, input().split())\n",
    "count = 0\n",
    "\n",
    "for hour in range(n+1) :\n",
    "    if hour < 10 : \n",
    "        hour = '0' + str(hour)\n",
    "    for minute in range(60) :\n",
    "        if minute < 10 :\n",
    "            minute = '0' + str(minute)\n",
    "        for second in range(60) :\n",
    "            if second < 10 :\n",
    "                second = '0' + str(second)\n",
    "            if str(k) in str(hour) + str(minute) + str(second) :\n",
    "                count += 1\n",
    "\n",
    "print(count)"
   ]
  },
  {
   "cell_type": "markdown",
   "id": "8d5fb429",
   "metadata": {},
   "source": [
    "# 왕실의 나이트\n",
    "- 왕실 정원은 8 x 8 좌표 평면\n",
    "- 특정한 한 칸에 나이트가 서 있다.\n",
    "- 이동은 L자 형태로만 이동, 정원 밖으로는 이동 불가\n",
    "- 특정한 위치에서는 다음과 같이 2가지 경우로 이동<br>\n",
    "\n",
    " (1) 수평으로 두 칸 이동한 뒤에 수직으로 한 칸 이동하기<br>\n",
    " (2) 수직으로 두 칸 이동한 뒤에 수평으로 한 칸 이동하기\n",
    " \n",
    "- 나이트가 이동할 수 있는 경우의 수를 출력\n",
    "- 행 : 1 ~ 8, 열 : a ~ h"
   ]
  },
  {
   "cell_type": "code",
   "execution_count": 3,
   "id": "d6ebb79f",
   "metadata": {
    "scrolled": true
   },
   "outputs": [
    {
     "name": "stdout",
     "output_type": "stream",
     "text": [
      "c2\n",
      "6\n"
     ]
    }
   ],
   "source": [
    "location = input()\n",
    "row = int(location[1])\n",
    "col = int(ord(location[0])) - int(ord('a')) + 1\n",
    "count = 0 \n",
    "\n",
    "steps = [(-2, -1), (-1, -2), (1, -2), (2, -1), (2, 1), (1, 2), (-1, 2), (-2, 1)]\n",
    "\n",
    "for step in steps :\n",
    "    next_row = row + step[0]\n",
    "    next_col = col + step[1]\n",
    "    # 해당 위치로 갈 수 있으면 count += 1\n",
    "    if next_row >= 1 and next_col >= 1 and next_row <= 8 and next_col <= 8 :\n",
    "        count += 1\n",
    "        \n",
    "print(count)"
   ]
  },
  {
   "cell_type": "markdown",
   "id": "02d25f5e",
   "metadata": {},
   "source": [
    "# 게임 개발 \n",
    "- 캐릭터가 있는 장소는 1 x 1 크기의 정사각형으로 이뤄진 N x M 크기의 직사각형\n",
    "- 각각의 칸은 육지 혹은 바다\n",
    "- 맵의 각 칸은 (A, B)로 나타낼 수 있다<br>\n",
    "\n",
    "  A : 북쪽으로부터 떨어진 칸의 개수<br>\n",
    "  B : 서쪽으로부터 떨어진 칸의 개수<br>\n",
    "- 캐릭터는 상하좌우로 움직일 수 있고, 바다로는 못 간다.\n",
    "- 캐릭터의 움직임<br>\n",
    "        (1) 현재 위치에서 현재 방향을 기준으로 왼쪽 방향부터 차례대로 갈 곳을 정한다.\n",
    "        (2) 캐릭터의 바로 왼쪽 방향에 아직 가보지 않은 칸이 존재한다면, 왼쪽 방향으로 회전한 다음 왼쪽으로 한 칸을 전진한다.\n",
    "            왼쪽 방향에 가보지 않은 칸이 없다면, 왼쪽 방향으로 회전만 수행하고 1단계로 돌아간다.\n",
    "        (3) 만약 네 방향 모두 이미 가본 칸이거나 바다로 되어 있는 칸인 경우에는, 바라보는 방향을 유지한 채로 한 칸 뒤로 가고 1단계로 돌아간다.\n",
    "            단, 이 때 뒤쪽 방향이 바다인 칸이라 뒤로 갈 수 없는 경우에는 움직임을 멈춘다.\n",
    "        \n",
    "- 캐릭터가 방문한 칸의 수를 출력하라.\n",
    "        "
   ]
  },
  {
   "cell_type": "code",
   "execution_count": null,
   "id": "d8cd5fe8",
   "metadata": {},
   "outputs": [],
   "source": [
    "# 우선 패스\n",
    "\n",
    "n, m = map(int, input().split())\n",
    "# 방문한 위치를 저장하기 위한 맵을 생성하여 0으로 초기화\n",
    "d = [[0] * for _ range(n)]\n",
    "x, y, direction = map(int, input().split())\n",
    "d[x][y] = 1 # 현재 방문 좌표\n",
    "\n",
    "array = []\n",
    "for i in range(n) :\n",
    "    array.append(list(map(int, input().split())))\n",
    "    \n",
    "# 북, 동, 남, 서 방향 정의\n",
    "dx = [-1, 0, 1, 0]\n",
    "dy = [0, 1, 0, -1]\n",
    "\n",
    "# 왼쪽으로 회전 \n",
    "def turn_left() :\n",
    "    global direction\n",
    "    direction -= 1\n",
    "    if direction == -1 :\n",
    "        direction = 3\n",
    "\n",
    "# 시뮬레이션\n",
    "count = 1\n",
    "turn_time = 0\n",
    "while True :\n",
    "    # 왼쪽으로 회전\n",
    "    turn_left()\n",
    "    nx = x + dx[direction]\n",
    "    ny = y + dy[direction]\n",
    "    # 회전한 이후 정면에 가보지 않은 칸이 존재하는 경우 이동\n",
    "    if d[x]"
   ]
  }
 ],
 "metadata": {
  "kernelspec": {
   "display_name": "Python 3 (ipykernel)",
   "language": "python",
   "name": "python3"
  },
  "language_info": {
   "codemirror_mode": {
    "name": "ipython",
    "version": 3
   },
   "file_extension": ".py",
   "mimetype": "text/x-python",
   "name": "python",
   "nbconvert_exporter": "python",
   "pygments_lexer": "ipython3",
   "version": "3.8.13"
  }
 },
 "nbformat": 4,
 "nbformat_minor": 5
}
